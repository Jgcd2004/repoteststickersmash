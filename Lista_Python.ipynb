{
  "nbformat": 4,
  "nbformat_minor": 0,
  "metadata": {
    "colab": {
      "provenance": [],
      "authorship_tag": "ABX9TyNOP3OWNuU8Hkow27eguCei",
      "include_colab_link": true
    },
    "kernelspec": {
      "name": "python3",
      "display_name": "Python 3"
    },
    "language_info": {
      "name": "python"
    }
  },
  "cells": [
    {
      "cell_type": "markdown",
      "metadata": {
        "id": "view-in-github",
        "colab_type": "text"
      },
      "source": [
        "<a href=\"https://colab.research.google.com/github/Jgcd2004/repoteststickersmash/blob/main/Lista_Python.ipynb\" target=\"_parent\"><img src=\"https://colab.research.google.com/assets/colab-badge.svg\" alt=\"Open In Colab\"/></a>"
      ]
    },
    {
      "cell_type": "code",
      "execution_count": null,
      "metadata": {
        "colab": {
          "base_uri": "https://localhost:8080/"
        },
        "id": "o3CjCxRkq3IP",
        "outputId": "8046c574-7444-4b9b-feb8-62bd34400f33"
      },
      "outputs": [
        {
          "output_type": "stream",
          "name": "stdout",
          "text": [
            "42 3.14 42\n"
          ]
        }
      ],
      "source": [
        "x = int(\"42\")\n",
        "y = float(\"3.14\")\n",
        "z = str(42)\n",
        "print(x, y, z)"
      ]
    },
    {
      "cell_type": "code",
      "source": [],
      "metadata": {
        "id": "g4yOcLgHSaaf"
      },
      "execution_count": null,
      "outputs": []
    },
    {
      "cell_type": "code",
      "source": [
        "# Exercicio 1\n",
        "nome = input(\"Digite seu nome: \")\n",
        "idade = int(input(\"Digite sua idade: \"))\n",
        "print(f\"Olá, {nome} ! Você tem {idade} anos.\")"
      ],
      "metadata": {
        "colab": {
          "base_uri": "https://localhost:8080/"
        },
        "id": "OnGJTsRGsjqG",
        "outputId": "8e0b8151-dfc6-4b4c-a600-0749dd082ad4"
      },
      "execution_count": null,
      "outputs": [
        {
          "output_type": "stream",
          "name": "stdout",
          "text": [
            "Digite seu nome: Loira Do Tchan\n",
            "Digite sua idade: 1449\n",
            "Olá, Loira Do Tchan ! Você tem 1449 anos.\n"
          ]
        }
      ]
    },
    {
      "cell_type": "code",
      "source": [
        "# Exercicio 2\n",
        "idade = int(input(\"Qual é a sua idade ?\"))\n",
        "meses = idade * 12\n",
        "prinbt"
      ],
      "metadata": {
        "id": "xNRXWBJO16Ht"
      },
      "execution_count": null,
      "outputs": []
    },
    {
      "cell_type": "markdown",
      "source": [
        "Escreva um programa que peça ao usuário dois números inteiros e exiba a soma, subtração, multiplicação e divisão desses números\n",
        "\n",
        "\n"
      ],
      "metadata": {
        "id": "EmCX17yi1xRd"
      }
    },
    {
      "cell_type": "code",
      "source": [
        "# Exercicio 3\n",
        "num1 = int(input(\"Digite o primeiro número: \"))\n",
        "num2 = int(input(\"Digite o segundo número: \"))\n",
        "\n",
        "soma = num1 + num2\n",
        "subtracao = num1 - num2\n",
        "multiplicacao = num1 * num2\n",
        "divisao = num1 / num2\n",
        "\n",
        "print(f\"A soma é {soma}\")\n",
        "print(f\"A subtração é {subtracao}\")\n",
        "print(f\"A multiplicação é {multiplicacao}\")\n",
        "print(f\"A divisão é {divisao}\")"
      ],
      "metadata": {
        "colab": {
          "base_uri": "https://localhost:8080/"
        },
        "id": "2Spjw1hI3dOz",
        "outputId": "a79a0ceb-d9f1-44f3-f4fb-ea148507cee7"
      },
      "execution_count": null,
      "outputs": [
        {
          "output_type": "stream",
          "name": "stdout",
          "text": [
            "Digite o primeiro número: 13\n",
            "Digite o segundo número: 13\n",
            "A soma é 26\n",
            "A subtração é 0\n",
            "A multiplicação é 169\n",
            "A divisão é 1.0\n"
          ]
        }
      ]
    },
    {
      "cell_type": "code",
      "source": [
        "# Exercicio 4\n",
        "preco_do_produto = float(input(\"Digite o preço do produto: \"))\n",
        "percentual_desconto = float(input(\"Digite o percentual de desconto: \"))\n",
        "\n",
        "valor_final = preco_do_produto * (1 - (percentual_desconto / 100))\n",
        "\n",
        "print(f\"O valor final do produto com desconto é: {valor_final}\")\n"
      ],
      "metadata": {
        "id": "saEYPy0H5JZq"
      },
      "execution_count": null,
      "outputs": []
    },
    {
      "cell_type": "code",
      "source": [
        "# Exercicio 5\n",
        "\n",
        "base = float(input(\"base triângulo: \"))\n",
        "altura = float(input(\"altura triângulo: \"))\n",
        "\n",
        "area = (base * altura) / 2\n",
        "\n",
        "print(f\"A área do total do triângulo é: {area}\")"
      ],
      "metadata": {
        "colab": {
          "base_uri": "https://localhost:8080/"
        },
        "id": "r6w4q7mmQTur",
        "outputId": "14f9173e-e997-4faa-f8f4-15facc708aea"
      },
      "execution_count": null,
      "outputs": [
        {
          "output_type": "stream",
          "name": "stdout",
          "text": [
            "base triângulo: 12\n",
            "altura triângulo: 12\n",
            "A área do total do triângulo é: 72.0\n"
          ]
        }
      ]
    },
    {
      "cell_type": "code",
      "source": [
        "# Exercicio 6\n",
        "nome=input(\"Digite seu nome: \")\n",
        "idade=int(input(\"Digite sua idade: \"))\n",
        "if idade >= 18:\n",
        "    print(f\"{nome} você é maior de idade\")\n",
        "else:\n",
        "    print(f\"{nome} você é menor de idade\")"
      ],
      "metadata": {
        "colab": {
          "base_uri": "https://localhost:8080/"
        },
        "id": "O-BmC2glRM4b",
        "outputId": "b9100780-5f7b-476c-84eb-fb4797923dd4"
      },
      "execution_count": null,
      "outputs": [
        {
          "output_type": "stream",
          "name": "stdout",
          "text": [
            "Digite seu nome: Jao\n",
            "Digite sua idade: 12\n",
            "Jao você é menor de idade\n"
          ]
        }
      ]
    },
    {
      "cell_type": "code",
      "source": [
        "# Exercicio 7\n",
        "C = float(input(\"digite aqui a temperatura em celsius (C): \"))\n",
        "F = (C * 9/5) + 32\n",
        "print(f\"A temperatura em F é: {F:.2f}°F\")"
      ],
      "metadata": {
        "colab": {
          "base_uri": "https://localhost:8080/"
        },
        "id": "pFbWYdYRRcwy",
        "outputId": "e1aec295-8efe-41a6-82fe-f4fb0c4554a4"
      },
      "execution_count": null,
      "outputs": [
        {
          "output_type": "stream",
          "name": "stdout",
          "text": [
            "digite aqui a temperatura em celsius (C): 32\n",
            "A temperatura em F é: 89.60°F\n"
          ]
        }
      ]
    },
    {
      "cell_type": "code",
      "source": [
        "# Exercicio 8\n",
        "n = int(input(\"insira um numero: \"))\n",
        "ant = n - 1\n",
        "suc = n + 1\n",
        "print(f\"o antecessor de {n} é {ant}\")\n",
        "print(f\"o sucessor de {n} é {suc}\")"
      ],
      "metadata": {
        "colab": {
          "base_uri": "https://localhost:8080/"
        },
        "id": "0xqxIP8cToUK",
        "outputId": "3b5e91f0-47f4-482c-b097-33cde839d0b6"
      },
      "execution_count": null,
      "outputs": [
        {
          "output_type": "stream",
          "name": "stdout",
          "text": [
            "insira um numero: 24\n",
            "o antecessor de 24 é 23\n",
            "o sucessor de 24 é 25\n"
          ]
        }
      ]
    },
    {
      "cell_type": "code",
      "source": [
        "# Exercicio 9\n",
        "minha_frase = \"Corinthians não é time, Corinthians é Seleção!\"\n",
        "numero_caracteres = len(minha_frase)\n",
        "print(f\"número de caracteres é: {numero_caracteres}\")"
      ],
      "metadata": {
        "id": "W1vu7iZsUG6T"
      },
      "execution_count": null,
      "outputs": []
    },
    {
      "cell_type": "code",
      "source": [
        "# Exercicio 10\n",
        "nome = input(\"Digite aqui o seu nome: \")\n",
        "idade = input(\"Digite aqui a sua idade: \")\n",
        "salario = input(\"Digite aqui o seu salário: \")\n",
        "\n",
        "print(f\" - Ficha Pessoal - \")\n",
        "print(f\"Nome: {nome}\")\n",
        "print(f\"Idade: {idade}\")\n",
        "print(f\"Salario: {salario}\")"
      ],
      "metadata": {
        "colab": {
          "base_uri": "https://localhost:8080/"
        },
        "id": "sMZW4bzXUHCT",
        "outputId": "c4f17251-65c7-4619-b07f-0bb6ce30544d"
      },
      "execution_count": null,
      "outputs": [
        {
          "output_type": "stream",
          "name": "stdout",
          "text": [
            "Digite aqui o seu nome: Jao\n",
            "Digite aqui a sua idade: 32\n",
            "Digite aqui o seu salário1234\n",
            " - Ficha Pessoal - \n",
            "Nome: Jao\n",
            "Idade: 32\n",
            "Salario: 1234\n"
          ]
        }
      ]
    },
    {
      "cell_type": "code",
      "source": [
        "# Exercicio 11\n",
        "num1 = float(input(\"Digite o primeiro número: \"))\n",
        "num2 = float(input(\"Digite o segundo número: \"))\n",
        "\n",
        "soma = num1 + num2\n",
        "subtracao = num1 - num2\n",
        "multiplicacao = num1 * num2\n",
        "\n",
        "if num2 != 0:\n",
        "    divisao = num1 / num2\n",
        "else:\n",
        "    divisao = \"Não é possível dividir por zero\"\n",
        "\n",
        "print(f\"A soma é {soma}\")\n",
        "print(f\"A subtração é {subtracao}\")\n",
        "print(f\"A multiplicação é {multiplicacao}\")\n",
        "print(f\"A divisão é {divisao}\")\n"
      ],
      "metadata": {
        "id": "G233zXCVUHML",
        "colab": {
          "base_uri": "https://localhost:8080/"
        },
        "outputId": "538b2b21-4ec3-41de-a636-638a0e2c6f5d"
      },
      "execution_count": null,
      "outputs": [
        {
          "output_type": "stream",
          "name": "stdout",
          "text": [
            "Digite o primeiro número: 12\n",
            "Digite o segundo número: 12\n",
            "A soma é 24.0\n",
            "A subtração é 0.0\n",
            "A multiplicação é 144.0\n",
            "A divisão é 1.0\n"
          ]
        }
      ]
    },
    {
      "cell_type": "code",
      "source": [
        "# Exercicio 12\n",
        "nt1 = float(input(\"Digite a primeira nota: \"))\n",
        "nt2 = float(input(\"Digite a segunda nota: \"))\n",
        "nt3 = float(input(\"Digite a terceira nota: \"))\n",
        "\n",
        "media = (nt1 + nt2 + nt3) / 3\n",
        "\n",
        "if media >= 7:\n",
        "    resultado = \"Aprovado\"\n",
        "else:\n",
        "    resultado = \"Reprovado\"\n",
        "\n",
        "print(f\"A média do aluno é: {media:.2f}\")\n",
        "print(f\"O aluno foi: {resultado}\")\n"
      ],
      "metadata": {
        "id": "VCdPRmpnUIEc"
      },
      "execution_count": null,
      "outputs": []
    },
    {
      "cell_type": "code",
      "source": [
        "# Exercicio 13\n",
        "num1 = int(input(\"Digite o primeiro número inteiro: \"))\n",
        "num2 = int(input(\"Digite o segundo número inteiro: \"))\n",
        "if num2 != 0:\n",
        "    quociente = num1 // num2\n",
        "    resto = num1 % num2\n",
        "    print(f\"O quociente da divisão entre {num1} e {num2} é: {quociente}\")\n",
        "    print(f\"O resto da divisão entre {num1} e {num2} é: {resto}\")\n",
        "else:\n",
        "    print(\"Erro: Divisão por zero não é permitida.\")\n"
      ],
      "metadata": {
        "id": "ZHz6qyVrSct9"
      },
      "execution_count": null,
      "outputs": []
    },
    {
      "cell_type": "code",
      "source": [
        "# Exercicio 14\n",
        "m = float(input(\"Digite a medida em metros: \"))\n",
        "cm = m * 100\n",
        "mm = m * 1000\n",
        "\n",
        "# Exibe os resultados\n",
        "print(f\"{m} metros equivalem a {cm} centímetros.\")\n",
        "print(f\"{m} metros equivalem a {mm} milímetros.\")\n"
      ],
      "metadata": {
        "colab": {
          "base_uri": "https://localhost:8080/"
        },
        "id": "fYy6z0zKSecm",
        "outputId": "b93aeb92-6efe-477a-d7ad-217a49775343"
      },
      "execution_count": null,
      "outputs": [
        {
          "output_type": "stream",
          "name": "stdout",
          "text": [
            "Digite a medida em metros: 10\n",
            "10.0 metros equivalem a 1000.0 centímetros.\n",
            "10.0 metros equivalem a 10000.0 milímetros.\n"
          ]
        }
      ]
    },
    {
      "cell_type": "code",
      "source": [
        "# Exercicio 15\n",
        "n = int(input(\"Digite o valor de N: \"))\n",
        "soma = sum(i for i in range(2, n + 1, 2))\n",
        "print(\"A soma dos números pares até N é:\", soma)\n"
      ],
      "metadata": {
        "id": "H7e32MJlSf5t"
      },
      "execution_count": null,
      "outputs": []
    },
    {
      "cell_type": "code",
      "source": [
        "# Exercicio 16\n",
        "n = int(input(\"Digite um número: \"))\n",
        "fatorial = 1\n",
        "for i in range(1, n + 1):\n",
        "    fatorial *= i\n",
        "print(f\"O fatorial de {n} é {fatorial}.\")\n"
      ],
      "metadata": {
        "id": "VPVF0xALShbt"
      },
      "execution_count": null,
      "outputs": []
    },
    {
      "cell_type": "code",
      "source": [
        "# Exercicio 17\n",
        "n = int(input(\"Quantos números você deseja verificar? \"))\n",
        "contagem = 0\n",
        "for _ in range(n):\n",
        "    numero = float(input(\"Digite um número: \"))\n",
        "    if numero > 0:\n",
        "        contagem += 1\n",
        "print(\"Você digitou\", contagem, \"números positivos.\")\n"
      ],
      "metadata": {
        "id": "t6hMSLj7Si_m"
      },
      "execution_count": null,
      "outputs": []
    },
    {
      "cell_type": "code",
      "source": [
        "# Exercicio 18\n",
        "numero = int(input(\"Digite um número: \"))\n",
        "if numero > 1:\n",
        "    for i in range(2, int(numero**0.5) + 1):\n",
        "        if numero % i == 0:\n",
        "            print(\"Não é primo.\")\n",
        "            break\n",
        "    else:\n",
        "        print(\"É primo.\")\n",
        "else:\n",
        "    print(\"Não é primo.\")"
      ],
      "metadata": {
        "id": "KozTY097SpyF"
      },
      "execution_count": null,
      "outputs": []
    },
    {
      "cell_type": "code",
      "source": [
        "# Exercicio 19\n",
        "numero = int(input(\"Digite um número: \"))\n",
        "print(f\"Tabuada do {numero}:\")\n",
        "for i in range(1, 11):\n",
        "    resultado = numero * i\n",
        "    print(f\"{numero} x {i} = {resultado}\")\n"
      ],
      "metadata": {
        "colab": {
          "base_uri": "https://localhost:8080/"
        },
        "id": "mELO2gteSrT-",
        "outputId": "899a8085-9cee-469a-f4c9-3763bbad7aaa"
      },
      "execution_count": null,
      "outputs": [
        {
          "output_type": "stream",
          "name": "stdout",
          "text": [
            "Digite um número: 2\n",
            "Tabuada do 2:\n",
            "2 x 1 = 2\n",
            "2 x 2 = 4\n",
            "2 x 3 = 6\n",
            "2 x 4 = 8\n",
            "2 x 5 = 10\n",
            "2 x 6 = 12\n",
            "2 x 7 = 14\n",
            "2 x 8 = 16\n",
            "2 x 9 = 18\n",
            "2 x 10 = 20\n"
          ]
        }
      ]
    },
    {
      "cell_type": "code",
      "source": [
        "# Exercicio 20\n",
        "salario = float(input(\"Digite o valor do salário: \"))\n",
        "percentual_aumento = float(input(\"Digite o percentual de aumento (sem o %): \"))\n",
        "aumento = salario * (percentual_aumento / 100)\n",
        "novo_salario = salario + aumento\n",
        "print(f\"O novo salário, com um aumento de {percentual_aumento}%, é: R$ {novo_salario:.2f}\")\n"
      ],
      "metadata": {
        "id": "kCOp5QPtSsbf"
      },
      "execution_count": null,
      "outputs": []
    },
    {
      "cell_type": "code",
      "source": [
        "contador = 0\n",
        "while contador < 5:\n",
        "    print(f\"Contador: {contador}\")\n",
        "    contador += 1"
      ],
      "metadata": {
        "colab": {
          "base_uri": "https://localhost:8080/"
        },
        "id": "W4X-O8wMS2p-",
        "outputId": "e538043c-726d-4ead-f3e5-e0bc3937d6d3"
      },
      "execution_count": null,
      "outputs": [
        {
          "output_type": "stream",
          "name": "stdout",
          "text": [
            "Contador: 0\n",
            "Contador: 1\n",
            "Contador: 2\n",
            "Contador: 3\n",
            "Contador: 4\n"
          ]
        }
      ]
    }
  ]
}